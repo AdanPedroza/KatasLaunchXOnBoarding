{
 "cells": [
  {
   "cell_type": "markdown",
   "metadata": {},
   "source": [
    "# Impresión Sencilla en Pantalla\n",
    "Imprime texto plano en la consola de Python"
   ]
  },
  {
   "cell_type": "code",
   "execution_count": 1,
   "metadata": {},
   "outputs": [
    {
     "name": "stdout",
     "output_type": "stream",
     "text": [
      "Hola Mundo... Desde Python\n"
     ]
    }
   ],
   "source": [
    "print('Hola Mundo... Desde Python')"
   ]
  },
  {
   "cell_type": "markdown",
   "metadata": {},
   "source": [
    "# Asignación de Valor a una Variable y Almacenamiento de Datos\n",
    "Asigna y crea sentancias para un grupo de variables y observa los resultados."
   ]
  },
  {
   "cell_type": "code",
   "execution_count": 7,
   "metadata": {},
   "outputs": [
    {
     "name": "stdout",
     "output_type": "stream",
     "text": [
      "La Suma es: 3\n",
      "El Resultado es: 6\n"
     ]
    }
   ],
   "source": [
    "sum = 1 + 2\n",
    "producto = sum * 2\n",
    "print('La Suma es:', sum)\n",
    "print('El Resultado es:', producto)"
   ]
  },
  {
   "cell_type": "markdown",
   "metadata": {},
   "source": [
    "# Saber el Tipo de Dato que Almacena una Variable"
   ]
  },
  {
   "cell_type": "code",
   "execution_count": 5,
   "metadata": {},
   "outputs": [
    {
     "data": {
      "text/plain": [
       "float"
      ]
     },
     "execution_count": 5,
     "metadata": {},
     "output_type": "execute_result"
    }
   ],
   "source": [
    "# Declaramos la variable\n",
    "distancia_a_alfa_centauri = 4.367\n",
    "\n",
    "# Descubrimos su tipo de dato\n",
    "type(distancia_a_alfa_centauri)"
   ]
  },
  {
   "cell_type": "markdown",
   "metadata": {},
   "source": [
    "# Operadores En Python\n"
   ]
  },
  {
   "cell_type": "markdown",
   "metadata": {},
   "source": [
    "## Matemáticos"
   ]
  },
  {
   "cell_type": "code",
   "execution_count": 8,
   "metadata": {},
   "outputs": [
    {
     "name": "stdout",
     "output_type": "stream",
     "text": [
      "Suma: 15\n",
      "Resta: 5\n",
      "Multiplicación: 50\n",
      "División: 0.5\n"
     ]
    }
   ],
   "source": [
    "num_1 = 10\n",
    "num_2 = 5\n",
    "\n",
    "sum = num_1 + num_2\n",
    "res = num_1 - num_2\n",
    "mul = num_2 * num_1\n",
    "div = num_2 / num_1\n",
    "\n",
    "print('Suma:', sum)\n",
    "print('Resta:', res)\n",
    "print('Multiplicación:', mul)\n",
    "print('División:', div)"
   ]
  },
  {
   "cell_type": "markdown",
   "metadata": {},
   "source": [
    "## Operadores de Asignación"
   ]
  },
  {
   "cell_type": "code",
   "execution_count": 10,
   "metadata": {},
   "outputs": [
    {
     "name": "stdout",
     "output_type": "stream",
     "text": [
      "Se le Asigna un Valor de: 5\n",
      "Se le Incrementan 5: 10\n",
      "Se le Restan 5: 5\n",
      "Se Divide entre 2: 2.5\n",
      "Se Multiplica por 2: 5.0\n"
     ]
    }
   ],
   "source": [
    "num_ejem = 5\n",
    "print('Se le Asigna un Valor de:', num_ejem)\n",
    "\n",
    "num_ejem += 5\n",
    "print('Se le Incrementan 5:', num_ejem)\n",
    "\n",
    "num_ejem -= 5\n",
    "print('Se le Restan 5:', num_ejem)\n",
    "\n",
    "num_ejem /= 2\n",
    "print('Se Divide entre 2:', num_ejem)\n",
    "\n",
    "num_ejem *= 2\n",
    "print('Se Multiplica por 2:', num_ejem)"
   ]
  },
  {
   "cell_type": "markdown",
   "metadata": {},
   "source": [
    "## Fechas\n",
    "Para fechas debemos de importar el módulo:"
   ]
  },
  {
   "cell_type": "code",
   "execution_count": 11,
   "metadata": {},
   "outputs": [],
   "source": [
    "from datetime import date"
   ]
  },
  {
   "cell_type": "markdown",
   "metadata": {},
   "source": [
    "Esto nos permitirá trabajar con las diferentes funciónes que contiene, por ejemplo, vamos a obtener la fecha del día de hoy y luego la mostraremos mediente la consola:"
   ]
  },
  {
   "cell_type": "code",
   "execution_count": 12,
   "metadata": {},
   "outputs": [
    {
     "name": "stdout",
     "output_type": "stream",
     "text": [
      "2022-02-08\n"
     ]
    }
   ],
   "source": [
    "# Obtenemos la Fecha de Hoy\n",
    "date.today()\n",
    "\n",
    "# Mostramos la Fecha en la Consola\n",
    "print(date.today())"
   ]
  },
  {
   "cell_type": "markdown",
   "metadata": {},
   "source": [
    "## Conversión de Datos\n",
    "Ejemplo sencillo, si queremos convertir la fecha anterior a una cadena de texto, usaremos: str(date.taday()).\n",
    "De esa manera estamos convirtiendo nuestro dato de la fecha a un texto simple que también podemos imprimir por consola, pero que ahora podemos concatenarlo junto a más texto:"
   ]
  },
  {
   "cell_type": "code",
   "execution_count": 14,
   "metadata": {},
   "outputs": [
    {
     "name": "stdout",
     "output_type": "stream",
     "text": [
      "La Fecha de Hoy es: 2022-02-08\n"
     ]
    }
   ],
   "source": [
    "print('La Fecha de Hoy es: ' + str(date.today()))"
   ]
  },
  {
   "cell_type": "markdown",
   "metadata": {},
   "source": [
    "## Obtener Datos del Usuario\n",
    "Obteniendo una entrada de datos por consola. usamos input() para obtener datos del usuario."
   ]
  },
  {
   "cell_type": "code",
   "execution_count": 15,
   "metadata": {},
   "outputs": [
    {
     "name": "stdout",
     "output_type": "stream",
     "text": [
      "Bienvenido a Launch X, Por Favor... Sigue las Instrucciones a Continuación\n",
      "Saludos: Adan Tonatiuh Pedroza Farias\n"
     ]
    }
   ],
   "source": [
    "print('Bienvenido a Launch X, Por Favor... Sigue las Instrucciones a Continuación')\n",
    "\n",
    "name = input('Coloca tu Nombre Completo Aquí: ')\n",
    "\n",
    "print('Saludos: ' + name)"
   ]
  },
  {
   "cell_type": "markdown",
   "metadata": {},
   "source": [
    "Si lo hacemos tal cual pero ahora ingresamos números, obtendrémos lo siguinte:"
   ]
  },
  {
   "cell_type": "code",
   "execution_count": 16,
   "metadata": {},
   "outputs": [
    {
     "name": "stdout",
     "output_type": "stream",
     "text": [
      "Prueba:\n",
      "La Suma es: 617\n"
     ]
    }
   ],
   "source": [
    "print('Prueba:')\n",
    "\n",
    "one = input('Coloca un Número')\n",
    "two = input('Coloca Otro Número')\n",
    "\n",
    "print('La Suma es:', one + two)"
   ]
  },
  {
   "cell_type": "markdown",
   "metadata": {},
   "source": [
    "¿Por qué no se suman?... Lo que pasa es que la función input() obtiene cadenas de texto, entonces ahora nosotros, antes de sumar estos 2 números, tenemos que convertirlos a enteros para poder hacer operaciones con ellos:"
   ]
  },
  {
   "cell_type": "code",
   "execution_count": 19,
   "metadata": {},
   "outputs": [
    {
     "name": "stdout",
     "output_type": "stream",
     "text": [
      "Número 1: 6\n",
      "Número 2: 17\n",
      "La Suma es: 23\n"
     ]
    }
   ],
   "source": [
    "print('Número 1:', one)\n",
    "print('Número 2:', two)\n",
    "\n",
    "print('La Suma es:', int(one) + int(two))"
   ]
  }
 ],
 "metadata": {
  "interpreter": {
   "hash": "1593393bca50d088fd9ce153026c347667cfa016bb4e1ab39df44577d0d07a11"
  },
  "kernelspec": {
   "display_name": "Python 3.10.0 64-bit",
   "language": "python",
   "name": "python3"
  },
  "language_info": {
   "codemirror_mode": {
    "name": "ipython",
    "version": 3
   },
   "file_extension": ".py",
   "mimetype": "text/x-python",
   "name": "python",
   "nbconvert_exporter": "python",
   "pygments_lexer": "ipython3",
   "version": "3.10.0"
  },
  "orig_nbformat": 4
 },
 "nbformat": 4,
 "nbformat_minor": 2
}
