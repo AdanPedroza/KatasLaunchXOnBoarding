{
 "cells": [
  {
   "cell_type": "markdown",
   "metadata": {},
   "source": [
    "## 1.- Crear y Usar Listas en Python"
   ]
  },
  {
   "cell_type": "code",
   "execution_count": null,
   "metadata": {},
   "outputs": [],
   "source": [
    "#Crea una lista de los 8 Planetas del Sistema Solar (Pluton ya no es Planeta)\n",
    "planetas = ['Mercurio', 'Venus', 'Tierra', 'Marte', 'Jupiter', 'Saturno', 'Urano', 'Neptuno']"
   ]
  },
  {
   "cell_type": "markdown",
   "metadata": {},
   "source": [
    "Agrega a Pluton. Muestra el Nuemero de Planetas así como el Último Planeta del Sistema Solar"
   ]
  },
  {
   "cell_type": "code",
   "execution_count": null,
   "metadata": {},
   "outputs": [],
   "source": [
    "#Numero Actual\n",
    "print('Numero de Planetas Actualmente (2022):', len(planetas))\n",
    "\n",
    "#Agregamos Pluton y Mostramos\n",
    "planetas.append('Pluton')\n",
    "print('Numero Total de Planetas mas Pluton:', len(planetas))"
   ]
  },
  {
   "cell_type": "markdown",
   "metadata": {},
   "source": [
    "## 2.- Trabajando con los Datos de una Lista\n",
    "* Crea una Nueva lista con los 8 Planetas\n",
    "* Solicita el Nombre de un Planeta al Usuario\n",
    "* Encuentra el Planeta en la Lista"
   ]
  },
  {
   "cell_type": "code",
   "execution_count": null,
   "metadata": {},
   "outputs": [],
   "source": [
    "#Crear la Nueva Lista\n",
    "planets = ['Mercurio', 'Venus', 'Tierra', 'Marte', 'Jupiter', 'Saturno', 'Urano', 'Neptuno']\n",
    "\n",
    "#Solicitando el Nombre de un Planeta\n",
    "newPlanet = input('Indroduce el Nombre de un Planeta!')\n",
    "\n",
    "#Encuentra el Planeta en la Lista\n",
    "indexPlanet = planets.index(newPlanet)\n",
    "print('Planeta Encontrado... Identificación de Planeta: Planeta Número:', indexPlanet + 1)"
   ]
  },
  {
   "cell_type": "markdown",
   "metadata": {},
   "source": [
    "Muestra los Planetas Mas Cercanos al Sol"
   ]
  },
  {
   "cell_type": "code",
   "execution_count": null,
   "metadata": {},
   "outputs": [],
   "source": [
    "#Mas Cercanos al Sol\n",
    "print('Los Planetas mas Cercanos al Sol son:\\n', planets[0:indexPlanet])"
   ]
  },
  {
   "cell_type": "markdown",
   "metadata": {},
   "source": [
    "Muestra los Planetas Mas Alejados del Sol"
   ]
  },
  {
   "cell_type": "code",
   "execution_count": null,
   "metadata": {},
   "outputs": [],
   "source": [
    "#Mas Cercanos al Sol\n",
    "print('Los Planetas mas Alejados del Sol son:\\n', planets[indexPlanet + 1:])"
   ]
  }
 ],
 "metadata": {
  "interpreter": {
   "hash": "1593393bca50d088fd9ce153026c347667cfa016bb4e1ab39df44577d0d07a11"
  },
  "kernelspec": {
   "display_name": "Python 3.10.0 64-bit",
   "language": "python",
   "name": "python3"
  },
  "language_info": {
   "codemirror_mode": {
    "name": "ipython",
    "version": 3
   },
   "file_extension": ".py",
   "mimetype": "text/x-python",
   "name": "python",
   "nbconvert_exporter": "python",
   "pygments_lexer": "ipython3",
   "version": "3.10.0"
  },
  "orig_nbformat": 4
 },
 "nbformat": 4,
 "nbformat_minor": 2
}
