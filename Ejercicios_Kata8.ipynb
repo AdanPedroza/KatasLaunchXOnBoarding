{
 "cells": [
  {
   "cell_type": "markdown",
   "metadata": {},
   "source": [
    "## 1.- Creación de Diccionarios en Python\n",
    "* Crea y Modifica un Diccionario Llamado `planet`\n",
    "* Rellenalo con la Siguiente Información: `name: Mars, moons: 2`"
   ]
  },
  {
   "cell_type": "code",
   "execution_count": 1,
   "metadata": {},
   "outputs": [],
   "source": [
    "#Creando un Diccionario\n",
    "planet = {\n",
    "    'name': 'Mars',\n",
    "    'moons': 2\n",
    "}"
   ]
  },
  {
   "cell_type": "markdown",
   "metadata": {},
   "source": [
    "* Muestra el Nombre del Planeta y el Número de Lunas que Tiene"
   ]
  },
  {
   "cell_type": "code",
   "execution_count": 3,
   "metadata": {},
   "outputs": [
    {
     "name": "stdout",
     "output_type": "stream",
     "text": [
      "Mars Tiene 2 Lunas\n"
     ]
    }
   ],
   "source": [
    "#Mostrando Informacion del Diccionario\n",
    "print(f'{planet[\"name\"]} Tiene {planet[\"moons\"]} Lunas')"
   ]
  },
  {
   "cell_type": "markdown",
   "metadata": {},
   "source": [
    "* Agrega al Diccionario la Clave de la Circunferencia con:\n",
    "* `polar: 6752 --- equiatorial: 6792`"
   ]
  },
  {
   "cell_type": "code",
   "execution_count": 4,
   "metadata": {},
   "outputs": [],
   "source": [
    "#Agregando Claves\n",
    "planet['circunferencia'] = {\n",
    "    'polar': 6752,\n",
    "    'equatorial': 6759\n",
    "}"
   ]
  },
  {
   "cell_type": "markdown",
   "metadata": {},
   "source": [
    "* Imprime el Nombre del Planeta con su Circunferencia Polar"
   ]
  },
  {
   "cell_type": "code",
   "execution_count": 7,
   "metadata": {},
   "outputs": [
    {
     "name": "stdout",
     "output_type": "stream",
     "text": [
      "Mars Tiene una Circuenferencia Polar de 6752 Kilometros\n"
     ]
    }
   ],
   "source": [
    "#Imprimiendo mas Datos\n",
    "print(f'{planet[\"name\"]} Tiene una Circuenferencia Polar de {planet[\"circunferencia\"][\"polar\"]} Kilometros')"
   ]
  },
  {
   "cell_type": "markdown",
   "metadata": {},
   "source": [
    "## 2.- Programación Dinámica con Diccionarios\n",
    "* Usa el Siguiente Código"
   ]
  },
  {
   "cell_type": "code",
   "execution_count": 8,
   "metadata": {},
   "outputs": [],
   "source": [
    "planet_moons = {\n",
    "    'mercury': 0,\n",
    "    'venus': 0,\n",
    "    'earth': 1,\n",
    "    'mars': 2,\n",
    "    'jupiter': 79,\n",
    "    'saturn': 82,\n",
    "    'uranus': 27,\n",
    "    'neptune': 14,\n",
    "    'pluto': 5,\n",
    "    'haumea': 2,\n",
    "    'makemake': 1,\n",
    "    'eris': 1\n",
    "}"
   ]
  },
  {
   "cell_type": "markdown",
   "metadata": {},
   "source": [
    "* Determina el Número de Lunas"
   ]
  },
  {
   "cell_type": "code",
   "execution_count": 9,
   "metadata": {},
   "outputs": [],
   "source": [
    "#Almacenando Datos\n",
    "lunas = planet_moons.values()\n",
    "\n",
    "#Almacenamos el Total de Planetas\n",
    "planetas = len(planet_moons.keys())"
   ]
  },
  {
   "cell_type": "markdown",
   "metadata": {},
   "source": [
    "* Ahora Cuenta las Lunas"
   ]
  },
  {
   "cell_type": "code",
   "execution_count": 10,
   "metadata": {},
   "outputs": [
    {
     "name": "stdout",
     "output_type": "stream",
     "text": [
      "17.833333333333332\n"
     ]
    }
   ],
   "source": [
    "#Contando Lunas\n",
    "lunas_Tot = 0\n",
    "for luna in lunas:\n",
    "    lunas_Tot = lunas_Tot + luna\n",
    "\n",
    "#Calcuando el Promedio de Lunas por Planeta\n",
    "prom_Lunas = lunas_Tot / planetas\n",
    "\n",
    "#Mostramos\n",
    "print(prom_Lunas)"
   ]
  }
 ],
 "metadata": {
  "interpreter": {
   "hash": "1593393bca50d088fd9ce153026c347667cfa016bb4e1ab39df44577d0d07a11"
  },
  "kernelspec": {
   "display_name": "Python 3.10.0 64-bit",
   "language": "python",
   "name": "python3"
  },
  "language_info": {
   "codemirror_mode": {
    "name": "ipython",
    "version": 3
   },
   "file_extension": ".py",
   "mimetype": "text/x-python",
   "name": "python",
   "nbconvert_exporter": "python",
   "pygments_lexer": "ipython3",
   "version": "3.10.0"
  },
  "orig_nbformat": 4
 },
 "nbformat": 4,
 "nbformat_minor": 2
}
