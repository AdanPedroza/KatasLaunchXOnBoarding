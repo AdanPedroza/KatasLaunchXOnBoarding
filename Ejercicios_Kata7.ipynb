{
 "cells": [
  {
   "cell_type": "markdown",
   "metadata": {},
   "source": [
    "## 1.- Crea 2 Variables para el Almacenamiento de Datos"
   ]
  },
  {
   "cell_type": "code",
   "execution_count": 1,
   "metadata": {},
   "outputs": [],
   "source": [
    "#Nuevo Planeta\n",
    "new_Planet = ''\n",
    "\n",
    "#Lista de Planetas\n",
    "planetas = []"
   ]
  },
  {
   "cell_type": "markdown",
   "metadata": {},
   "source": [
    "* Crea un Ciclo `while` que se Ejecute Mientras NO se Escriba `done`\n",
    "* Comprueba si hay Nuevos Valores para Ingresar en la Lista `planetas`, si los hay, Agregalos con `append` a `planetas`\n",
    "* Usa `input` para Solicitar al Usuario los Diferentes Planetas"
   ]
  },
  {
   "cell_type": "code",
   "execution_count": 2,
   "metadata": {},
   "outputs": [],
   "source": [
    "#Inicio del While\n",
    "while new_Planet.lower() != 'done':\n",
    "    #Si hay un Planeta que Almecenar, lo Almecenamos\n",
    "    if new_Planet:\n",
    "        planetas.append(new_Planet)\n",
    "    new_Planet = input('Introduce un Planeta, o Escribe \"done\" si haz terminado\"')"
   ]
  },
  {
   "cell_type": "markdown",
   "metadata": {},
   "source": [
    "## 2.- Creación de un Ciclo `for`\n",
    "* Crea un `for` para Mostrar los Planetas Almecenados en `planetas`"
   ]
  },
  {
   "cell_type": "code",
   "execution_count": 3,
   "metadata": {},
   "outputs": [
    {
     "name": "stdout",
     "output_type": "stream",
     "text": [
      "Marte\n",
      "Jupiter\n",
      "Tierra\n",
      "Urano\n",
      "\n",
      "Son Todos los Planetas!\n"
     ]
    }
   ],
   "source": [
    "#Inicia el for\n",
    "for planets in planetas:\n",
    "    #Imprimimos los Planetas\n",
    "    print(planets)\n",
    "\n",
    "#Finalizamos\n",
    "print('\\nSon Todos los Planetas!')"
   ]
  }
 ],
 "metadata": {
  "interpreter": {
   "hash": "1593393bca50d088fd9ce153026c347667cfa016bb4e1ab39df44577d0d07a11"
  },
  "kernelspec": {
   "display_name": "Python 3.10.0 64-bit",
   "language": "python",
   "name": "python3"
  },
  "language_info": {
   "codemirror_mode": {
    "name": "ipython",
    "version": 3
   },
   "file_extension": ".py",
   "mimetype": "text/x-python",
   "name": "python",
   "nbconvert_exporter": "python",
   "pygments_lexer": "ipython3",
   "version": "3.10.0"
  },
  "orig_nbformat": 4
 },
 "nbformat": 4,
 "nbformat_minor": 2
}
