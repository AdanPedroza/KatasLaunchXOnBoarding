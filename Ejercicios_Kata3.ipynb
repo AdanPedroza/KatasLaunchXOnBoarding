{
 "cells": [
  {
   "cell_type": "markdown",
   "metadata": {},
   "source": [
    "## 1.- Escribir Declaraciones if, else y elif\n",
    "\n",
    "*Cualquier velocidad mayor a 25 kilometros por segundo (km/s) en dirección a la tierra requiere de una advertencia"
   ]
  },
  {
   "cell_type": "markdown",
   "metadata": {},
   "source": [
    "Situación 1: Asteroide a una velocidad de 49 km/s"
   ]
  },
  {
   "cell_type": "code",
   "execution_count": null,
   "metadata": {},
   "outputs": [],
   "source": [
    "vAst = 49\n",
    "vLim = 25\n",
    "\n",
    "#Condiciones\n",
    "if vAst > vLim:\n",
    "    print(\"Advertencia! ... Asteroide Acercandoce de Manera Peligrosa...\")\n",
    "else:\n",
    "    print(\"Situación Controlada... No Hay Peligro...\")"
   ]
  },
  {
   "cell_type": "markdown",
   "metadata": {},
   "source": [
    "*Si un asteroide entra a la tierra a mas de 20 km/s suele emitir rayos de luz\n",
    "\n",
    "Situación 2: Asteroide a una velocidad de 19 km/s"
   ]
  },
  {
   "cell_type": "code",
   "execution_count": null,
   "metadata": {},
   "outputs": [],
   "source": [
    "vAst = 19\n",
    "vLuz = 20\n",
    "\n",
    "if vAst == vLuz:\n",
    "    print(\"En este Momento, Podemos Observar la Estela de Luz de un Asteroide!\")\n",
    "elif vAst > vLim:\n",
    "    print(\"Asteroide en la Mira!!\")\n",
    "else:\n",
    "    print(\"Situación Normal... Sin Novedades...\")"
   ]
  },
  {
   "cell_type": "markdown",
   "metadata": {},
   "source": [
    "*Si el Tamaño de un Asteroide es Mayor a 25 mts se Considera Peligroso\n",
    "\n",
    "Situación 3: Un Asteroide de 25 mts viaja a la tierra a 25 km/s"
   ]
  },
  {
   "cell_type": "code",
   "execution_count": null,
   "metadata": {},
   "outputs": [],
   "source": [
    "vAst = 25\n",
    "tAst = 40\n",
    "vLim = 20\n",
    "\n",
    "if vAst > vLim and tAst > 25:\n",
    "    print(\"Un Asteroide Gigante se Apoxima a la Tierra!!\")\n",
    "elif vAst >= 20:\n",
    "    print(\"En este Momento, Podemos Observar la Estela de Luz de un Asteroide!\")\n",
    "else:\n",
    "    print(\"Situación Normal... Sin Novedades...\")"
   ]
  }
 ],
 "metadata": {
  "interpreter": {
   "hash": "1593393bca50d088fd9ce153026c347667cfa016bb4e1ab39df44577d0d07a11"
  },
  "kernelspec": {
   "display_name": "Python 3.10.0 64-bit",
   "language": "python",
   "name": "python3"
  },
  "language_info": {
   "codemirror_mode": {
    "name": "ipython",
    "version": 3
   },
   "file_extension": ".py",
   "mimetype": "text/x-python",
   "name": "python",
   "nbconvert_exporter": "python",
   "pygments_lexer": "ipython3",
   "version": "3.10.0"
  },
  "orig_nbformat": 4
 },
 "nbformat": 4,
 "nbformat_minor": 2
}
