{
 "cells": [
  {
   "cell_type": "markdown",
   "metadata": {},
   "source": [
    "## 1.- Operadores Aritméticos"
   ]
  },
  {
   "cell_type": "code",
   "execution_count": null,
   "metadata": {},
   "outputs": [],
   "source": [
    "#Crear Variables para Almacenar las 2 Distancias\n",
    "onePla = 149597870\n",
    "twoPla = 778547200"
   ]
  },
  {
   "cell_type": "markdown",
   "metadata": {},
   "source": [
    "## Realiza una Operación"
   ]
  },
  {
   "cell_type": "code",
   "execution_count": null,
   "metadata": {},
   "outputs": [],
   "source": [
    "#Calcula la Distancia entre los Planetas\n",
    "dit_Km = twoPla - onePla\n",
    "print('Distancia en KM:', dit_Km)\n",
    "\n",
    "print('Distancia en Millas:', dit_Km * 0.621)"
   ]
  },
  {
   "cell_type": "markdown",
   "metadata": {},
   "source": [
    "## Convierte Cadenas en Números y Usa Valores Absolutos"
   ]
  },
  {
   "cell_type": "code",
   "execution_count": null,
   "metadata": {},
   "outputs": [],
   "source": [
    "#Almacenar las Entradas de Usuario\n",
    "onePla = input(\"Coloca la Distancia del Planeta 1:\")\n",
    "twoPla = input(\"Coloca la Distancia del Planeta 2:\")\n"
   ]
  },
  {
   "cell_type": "markdown",
   "metadata": {},
   "source": [
    "## Convertir Valores a INT"
   ]
  },
  {
   "cell_type": "code",
   "execution_count": null,
   "metadata": {},
   "outputs": [],
   "source": [
    "onePla = int(onePla)\n",
    "twoPla = int(twoPla)"
   ]
  },
  {
   "cell_type": "markdown",
   "metadata": {},
   "source": [
    "## Calcular y Convertir a Valor Absoluto"
   ]
  },
  {
   "cell_type": "code",
   "execution_count": null,
   "metadata": {},
   "outputs": [],
   "source": [
    "#Calcular la Distancia Entre los Planetas\n",
    "dit_Km = twoPla - onePla\n",
    "print('Distancia en Kilometros:', abs(dit_Km))\n",
    "\n",
    "#Calcular Millas\n",
    "ditMill = dit_Km * 0.621\n",
    "print('Distancia en Millas: ', abs(ditMill))"
   ]
  }
 ],
 "metadata": {
  "interpreter": {
   "hash": "1593393bca50d088fd9ce153026c347667cfa016bb4e1ab39df44577d0d07a11"
  },
  "kernelspec": {
   "display_name": "Python 3.10.0 64-bit",
   "language": "python",
   "name": "python3"
  },
  "language_info": {
   "codemirror_mode": {
    "name": "ipython",
    "version": 3
   },
   "file_extension": ".py",
   "mimetype": "text/x-python",
   "name": "python",
   "nbconvert_exporter": "python",
   "pygments_lexer": "ipython3",
   "version": "3.10.0"
  },
  "orig_nbformat": 4
 },
 "nbformat": 4,
 "nbformat_minor": 2
}
