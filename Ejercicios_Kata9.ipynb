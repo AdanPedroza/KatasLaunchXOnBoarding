{
 "cells": [
  {
   "cell_type": "markdown",
   "metadata": {},
   "source": [
    "# Uso de Funciones en Python\n",
    "## 1.- Trabajar con Argumentos en Funciones\n",
    "* Crear una Lectura de 3 Tanques de Combustible"
   ]
  },
  {
   "cell_type": "code",
   "execution_count": null,
   "metadata": {},
   "outputs": [],
   "source": [
    "#Funcion para Leer 3 Tanques de Combustible y Mostrar Promedio\n",
    "def tanques(tanq1, tanq2, tanq3):\n",
    "    prom = (tanq1 + tanq2 + tanq3) / 3\n",
    "\n",
    "    #Devolvemos un Reporte\n",
    "    return f\"\"\"Reporte de Combustible\n",
    "    Promedio: {prom}%\n",
    "    Tanque 1: {tanq1}%\n",
    "    Tanque 2: {tanq2}%\n",
    "    Tanque 3: {tanq3}%\"\"\""
   ]
  },
  {
   "cell_type": "markdown",
   "metadata": {},
   "source": [
    "* Usa Valores Aleatorios para Comprobar la Funcion Anterior"
   ]
  },
  {
   "cell_type": "code",
   "execution_count": null,
   "metadata": {},
   "outputs": [],
   "source": [
    "#Llamar a la Funcion con los Tanques Medio Llenos\n",
    "print(tanques(90, 78, 82))"
   ]
  },
  {
   "cell_type": "markdown",
   "metadata": {},
   "source": [
    "* Crea una Función Separada para el Promedio"
   ]
  },
  {
   "cell_type": "code",
   "execution_count": null,
   "metadata": {},
   "outputs": [],
   "source": [
    "#Creando la Funcion Promedio\n",
    "def promedio(valores):\n",
    "    #Sumamos los Valores\n",
    "    total = sum(valores)\n",
    "    #Obtenemos el Numero de Valores Ingresados\n",
    "    tot_Tanques = len(valores)\n",
    "    \n",
    "    #Devolvemos el Promedio\n",
    "    return total / tot_Tanques"
   ]
  },
  {
   "cell_type": "markdown",
   "metadata": {},
   "source": [
    "* Actualiza la Función del Reporte de Combustible para Llamar la Nueva Función Promedio\n",
    "* Comprueba la Función con Valores Nuevos"
   ]
  },
  {
   "cell_type": "code",
   "execution_count": null,
   "metadata": {},
   "outputs": [],
   "source": [
    "#Actualiza la Funcion del Reporte de Combustible\n",
    "def tanques(tanq1, tanq2, tanq3):\n",
    "\n",
    "    #Devolvemos un Reporte\n",
    "    return f\"\"\"Reporte de Combustible\n",
    "    Promedio: {promedio([tanq1, tanq2, tanq3])}%\n",
    "    Tanque 1: {tanq1}%\n",
    "    Tanque 2: {tanq2}%\n",
    "    Tanque 3: {tanq3}%\"\"\"\n",
    "\n",
    "print(tanques(90,78,82))"
   ]
  },
  {
   "cell_type": "markdown",
   "metadata": {},
   "source": [
    "## 2.- Trabajo con Argumentos de Palabra Clave\n",
    "* Crea la Función para Generar un Informe de la Misión\n",
    "* Comprueba su Funcionamiento"
   ]
  },
  {
   "cell_type": "code",
   "execution_count": null,
   "metadata": {},
   "outputs": [],
   "source": [
    "# Función con un informe preciso de la misión.\n",
    "# Considera hora de prelanzamiento, tiempo de vuelo, destino, tanque externo y tanque interno.\n",
    "\n",
    "def reporte_Mision(pre_launch, tiempo_vuelo, destino, tanqExt, tanqInt):\n",
    "    return f\"\"\"\n",
    "    Destino: {destino}\n",
    "    Tiempo de Vuelo: {pre_launch + tiempo_vuelo}\n",
    "    Combustible Total: {tanqExt + tanqInt} lts\"\"\"\n",
    "\n",
    "# Comprobando la Funcion\n",
    "print(reporte_Mision(10, 90, 'La Luna', 6000, 17000))"
   ]
  },
  {
   "cell_type": "markdown",
   "metadata": {},
   "source": [
    "* Haz que esta Función sea más Flexible, Utiliza lo Aprendido con `*args` y `**kwarsg`\n",
    "* Comprueba la Función"
   ]
  },
  {
   "cell_type": "code",
   "execution_count": null,
   "metadata": {},
   "outputs": [],
   "source": [
    "# Escribe la Funcion Mejorada\n",
    "\n",
    "def mission_Report(destino, *minutos, **combustible):\n",
    "    return f\"\"\"\n",
    "    Destino: {destino}\n",
    "    Tiempo de Vuelo: {sum(minutos)} Minutos\n",
    "    Combustible Total: {sum(combustible.values())} LTS\"\"\"\n",
    "\n",
    "# Comprobando la Funcion\n",
    "print(mission_Report('La Luna', 15, 90, 30, tanq1 = 6000, tanq2 = 17000))"
   ]
  },
  {
   "cell_type": "markdown",
   "metadata": {},
   "source": [
    "* Actualiza la Función para que Muestre el Nombre de Cada Tanque por Separado en el Informe"
   ]
  },
  {
   "cell_type": "code",
   "execution_count": null,
   "metadata": {},
   "outputs": [],
   "source": [
    "# Funcion Actualizada\n",
    "\n",
    "def m_report(destino, *minutos, **combustible):\n",
    "    # Creamos un Espacio donde Guardar el Reporte que Vamos a Imprimir\n",
    "    final_Report = f\"\"\"\n",
    "    Destino: {destino}\n",
    "    Tiempo de Vuelo: {sum(minutos)} Minutos\n",
    "    Combustible Total: {sum(combustible.values())} LTS\n",
    "    \"\"\"\n",
    "\n",
    "    # Recorremos los Tanques Agregados y los Agregamos al Formato del Reporte\n",
    "    for tanq, lts in combustible.items():\n",
    "        final_Report += f\"{tanq} Contiene: {lts} Restantes\\n\"\n",
    "    \n",
    "    return final_Report\n",
    "\n",
    "# Comprobando la Funcion\n",
    "print(m_report('La Luna', 15, 90, 30, tanq1 = 6000, tanq2 = 17000))"
   ]
  }
 ],
 "metadata": {
  "interpreter": {
   "hash": "1593393bca50d088fd9ce153026c347667cfa016bb4e1ab39df44577d0d07a11"
  },
  "kernelspec": {
   "display_name": "Python 3.10.0 64-bit",
   "language": "python",
   "name": "python3"
  },
  "language_info": {
   "codemirror_mode": {
    "name": "ipython",
    "version": 3
   },
   "file_extension": ".py",
   "mimetype": "text/x-python",
   "name": "python",
   "nbconvert_exporter": "python",
   "pygments_lexer": "ipython3",
   "version": "3.10.0"
  },
  "orig_nbformat": 4
 },
 "nbformat": 4,
 "nbformat_minor": 2
}
