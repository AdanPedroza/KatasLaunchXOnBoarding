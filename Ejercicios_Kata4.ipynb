{
 "cells": [
  {
   "cell_type": "markdown",
   "metadata": {},
   "source": [
    "## 1.- Transformar Cadenas\n",
    "Transforma la Siguiente Cadena:\n",
    "* text = \"\"\"Interesting facts about the Moon. The Moon is Earth's only satellite. There are several interesting facts about the Moon and how it affects life here on Earth. \n",
    "On average, the Moon moves 4cm away from the Earth every year. This yearly drift is not significant enough to cause immediate effects on Earth. The highest daylight temperature of the Moon is 127 C.\"\"\""
   ]
  },
  {
   "cell_type": "code",
   "execution_count": null,
   "metadata": {},
   "outputs": [],
   "source": [
    "text = \"\"\"Interesting facts about the Moon. The Moon is Earth's only satellite. There are several interesting facts about the Moon and how it affects life here on Earth. \n",
    "On average, the Moon moves 4cm away from the Earth every year. This yearly drift is not significant enough to cause immediate effects on Earth. The highest daylight temperature of the Moon is 127 C.\"\"\"\n",
    "\n",
    "#Dividiendo el Texto\n",
    "divText = text.split('.')\n",
    "\n",
    "print('Texto Dividido:', divText)\n",
    "\n",
    "#Definiendo Palabras Clave\n",
    "palabras = [\"average\", \"temperature\", \"distance\"]\n",
    "\n",
    "#Mostrando Datos Relacionados con las Palabras Clave\n",
    "print('')\n",
    "for relacionados in divText:\n",
    "    for word in palabras:\n",
    "        if word in relacionados:\n",
    "            print('Texto Relacionado:',relacionados)\n",
    "            break\n",
    "\n",
    "#Cambiar Palabras C a Celcius\n",
    "print('')\n",
    "for relacionados in divText:\n",
    "    for word in palabras:\n",
    "        if word in relacionados:\n",
    "            print('Texto Remplazado:', relacionados.replace(' C', 'Celcius'))\n",
    "            break"
   ]
  },
  {
   "cell_type": "markdown",
   "metadata": {},
   "source": [
    "## 2.- Formato de Cadenas\n",
    "Usa los Siguientes Datos para Trabajar:\n",
    "* name = \"Moon\"\n",
    "* gravity = 0.00162 # in kms\n",
    "* planet = \"Earth\""
   ]
  },
  {
   "cell_type": "code",
   "execution_count": null,
   "metadata": {},
   "outputs": [],
   "source": [
    "#Datos a Usar\n",
    "name = 'Ganímedes'\n",
    "planeta = 'Marte'\n",
    "gravedad  = 0.00143\n",
    "\n",
    "#Crear un Titulo\n",
    "title = f'Datos de la Gravedad Sobre {name}'\n",
    "print('Titulo:', title)\n",
    "\n",
    "print('')\n",
    "\n",
    "#Crear una Plantilla\n",
    "print('Plantilla:')\n",
    "one = f\"\"\"{'-'*80}\n",
    "Planeta: {planeta}\n",
    "Gravedad en {name}: {gravedad * 1000} m/s2\"\"\"\n",
    "print(one)\n",
    "\n",
    "print('')\n",
    "\n",
    "#Unir Cadenas\n",
    "print('Union:')\n",
    "union = f\"\"\"{title.title()}\n",
    "{one}\"\"\"\n",
    "print(union)\n",
    "\n",
    "print('')\n",
    "\n",
    "#Plantilla Nueva\n",
    "print('Nuevo Formato:')\n",
    "new = \"\"\"Datos Sobre la Gravedad de: {name}\n",
    "---------------------------------------------\n",
    "Nombre del Planeta: {planeta}\n",
    "Gravedad en {name}: {gravedad} m/s2\"\"\"\n",
    "print(new.format(name=name, planeta=planeta, gravedad=gravedad))\n",
    "\n",
    "print('')\n",
    "\n",
    "#Imprime la Gravedad Correcta\n",
    "print('Resultado Final con la Gravedad Correcta (Hacer la Operación por Separado):')\n",
    "print(new.format(name=name, planeta=planeta, gravedad=gravedad * 1000))"
   ]
  }
 ],
 "metadata": {
  "interpreter": {
   "hash": "1593393bca50d088fd9ce153026c347667cfa016bb4e1ab39df44577d0d07a11"
  },
  "kernelspec": {
   "display_name": "Python 3.10.0 64-bit",
   "language": "python",
   "name": "python3"
  },
  "language_info": {
   "codemirror_mode": {
    "name": "ipython",
    "version": 3
   },
   "file_extension": ".py",
   "mimetype": "text/x-python",
   "name": "python",
   "nbconvert_exporter": "python",
   "pygments_lexer": "ipython3",
   "version": "3.10.0"
  },
  "orig_nbformat": 4
 },
 "nbformat": 4,
 "nbformat_minor": 2
}
